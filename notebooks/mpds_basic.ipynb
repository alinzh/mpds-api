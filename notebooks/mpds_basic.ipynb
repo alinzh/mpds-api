{
 "cells": [
  {
   "cell_type": "markdown",
   "metadata": {},
   "source": [
    "\n",
    "Basic usage of the MPDS API\n",
    "==========\n",
    "\n",
    "- <font color=blue>Complexity level: beginner</font>\n",
    "\n",
    "Let's play a bit with the MPDS API?\n"
   ]
  },
  {
   "cell_type": "code",
   "execution_count": null,
   "metadata": {},
   "outputs": [],
   "source": [
    "!pip install mpds_client>=0.0.17"
   ]
  },
  {
   "cell_type": "code",
   "execution_count": null,
   "metadata": {},
   "outputs": [],
   "source": [
    "from mpds_client import MPDSDataRetrieval, MPDSDataTypes, APIError"
   ]
  },
  {
   "cell_type": "code",
   "execution_count": null,
   "metadata": {},
   "outputs": [],
   "source": [
    "[x for x in dir(MPDSDataTypes) if not x.startswith('__')]"
   ]
  },
  {
   "cell_type": "markdown",
   "metadata": {},
   "source": [
    "In future we'll also add _ab initio_ data, but peer-reviewed data are (and will remain) default."
   ]
  },
  {
   "cell_type": "code",
   "execution_count": null,
   "metadata": {},
   "outputs": [],
   "source": [
    "example_props = [ # NB these props support machine-learning data type\n",
    "'isothermal bulk modulus',\n",
    "'enthalpy of formation',\n",
    "'heat capacity at constant pressure',\n",
    "'Seebeck coefficient',\n",
    "'values of electronic band gap', # NB both direct + indirect gaps\n",
    "'temperature for congruent melting',\n",
    "'Debye temperature',\n",
    "'linear thermal expansion coefficient'\n",
    "]"
   ]
  },
  {
   "cell_type": "markdown",
   "metadata": {},
   "source": [
    "Default fields make sense, but we'll additionally customize them below."
   ]
  },
  {
   "cell_type": "code",
   "execution_count": null,
   "metadata": {},
   "outputs": [],
   "source": [
    "desired_fields = {\n",
    "    'P':[ # *P*hysical property entries\n",
    "        'sample.material.entry',\n",
    "        'sample.material.phase',\n",
    "        'sample.material.chemical_elements',\n",
    "        'sample.material.chemical_formula'\n",
    "    ],\n",
    "    'S':[ # Crystalline *S*tructure entries\n",
    "        'entry'\n",
    "        'phase',\n",
    "        'chemical_elements',\n",
    "        'chemical_formula'\n",
    "    ],\n",
    "    'C':[ # Phase diagrams, i.e. *C*onstitution entries\n",
    "        'entry',\n",
    "        lambda: 'MANY-PHASE', # constants are given like this (on purpose)\n",
    "        'chemical_elements',\n",
    "        lambda: 'MANY-FORMULAE'\n",
    "    ]\n",
    "    # NB. P-S-C are interconnected by means of the distinct phases\n",
    "}"
   ]
  },
  {
   "cell_type": "markdown",
   "metadata": {},
   "source": [
    "\n",
    "Copy and paste your [MPDS API key](https://mpds.io/open-data-api) in the next cell, then execute. Note, if the key isn't valid, the API returns an HTTP error `403`.\n",
    "\n",
    "Please, make sure not to expose your MPDS key publicly.\n"
   ]
  },
  {
   "cell_type": "code",
   "execution_count": null,
   "metadata": {},
   "outputs": [],
   "source": [
    "client = MPDSDataRetrieval(dtype=MPDSDataTypes.MACHINE_LEARNING, api_key='YOUR_MPDS_API_KEY_GOES_HERE')"
   ]
  },
  {
   "cell_type": "code",
   "execution_count": null,
   "metadata": {},
   "outputs": [],
   "source": [
    "for prop in example_props:\n",
    "\n",
    "    print(\"*\" * 100)\n",
    "    print(\"Considering %s\" % prop)\n",
    "\n",
    "    try:\n",
    "        for card in client.get_data({\n",
    "            \"props\": prop,\n",
    "            \"classes\": \"transitional, superconductor\",\n",
    "            # any atom of that group (transitional metal) must be present\n",
    "            # + physics term (superconductor) assigned in the original publication\n",
    "            \"aetypes\": \"all 7-vertex\",\n",
    "            # e.g. hexagonal pyramid, pentagonal bipyramid etc.\n",
    "            \"aeatoms\": \"X-S\",\n",
    "            # any atom in the center, sulphur in the vertices (ligands)\n",
    "            \"years\": \"2010-2019\"\n",
    "            # only recent results (void for MACHINE_LEARNING, as all are 2018)\n",
    "        }, fields=desired_fields):\n",
    "\n",
    "            print(\"%s %s %s\" % (card[0], \"-\".join(card[2]), card[3]))\n",
    "\n",
    "    except APIError as ex:\n",
    "\n",
    "        if ex.code == 1:\n",
    "            print(\"No matches.\")\n",
    "\n",
    "        else:\n",
    "            print(\"Error %s: %s\" % (ex.code, ex.msg))"
   ]
  },
  {
   "cell_type": "code",
   "execution_count": null,
   "metadata": {},
   "outputs": [],
   "source": [
    "client.dtype = MPDSDataTypes.PEER_REVIEWED\n",
    "\n",
    "print(client.get_data({\"elements\": \"O\", \"classes\": \"binary\", \"sgs\": \"I4/mmm\"}))"
   ]
  },
  {
   "cell_type": "code",
   "execution_count": null,
   "metadata": {},
   "outputs": [],
   "source": [
    "import random\n",
    "prop = random.choice(example_props)\n",
    "\n",
    "print(client.get_data({\"props\": prop, \"elements\": \"O\", \"classes\": \"binary, lanthanoid, non-disordered\"}))"
   ]
  },
  {
   "cell_type": "markdown",
   "metadata": {},
   "source": [
    "\n",
    "Were you able to follow everything? Please, try to explain, what happens under the hood approximately, when we call `client.get_data` or `client.get_dataframe`.\n"
   ]
  }
 ],
 "metadata": {},
 "nbformat": 4,
 "nbformat_minor": 2
}
